{
 "cells": [
  {
   "cell_type": "markdown",
   "metadata": {},
   "source": [
    "# Data Preparation: NumPy/Pandas to PyTorch/TensorFlow\n",
    "\n",
    "**Learning Objectives:**\n",
    "- Understand how PyTorch and TensorFlow consume NumPy/Pandas data\n",
    "- Learn data loading patterns and tensor conversion techniques\n",
    "- Compare performance of different data loading approaches\n",
    "\n",
    "**Prerequisites:** NumPy essentials, Pandas for ML\n",
    "\n",
    "**Estimated Time:** 40 minutes"
   ]
  },
  {
   "cell_type": "code",
   "execution_count": null,
   "metadata": {},
   "outputs": [],
   "source": [
    "import os\n",
    "import sys\n",
    "\n",
    "import numpy as np\n",
    "\n",
    "# Add src to path for our utilities\n",
    "sys.path.append(os.path.join('..', '..', 'src'))\n",
    "\n",
    "# Import frameworks\n",
    "try:\n",
    "    import torch\n",
    "    from torch.utils.data import DataLoader, TensorDataset\n",
    "    PYTORCH_AVAILABLE = True\n",
    "    print(f\"✅ PyTorch {torch.__version__} available\")\n",
    "except ImportError:\n",
    "    PYTORCH_AVAILABLE = False\n",
    "    print(\"❌ PyTorch not available\")\n",
    "\n",
    "try:\n",
    "    import tensorflow as tf\n",
    "    TENSORFLOW_AVAILABLE = True\n",
    "    print(f\"✅ TensorFlow {tf.__version__} available\")\n",
    "except ImportError:\n",
    "    TENSORFLOW_AVAILABLE = False\n",
    "    print(\"❌ TensorFlow not available\")\n",
    "\n",
    "# Set random seeds\n",
    "np.random.seed(42)\n",
    "if PYTORCH_AVAILABLE:\n",
    "    torch.manual_seed(42)\n",
    "if TENSORFLOW_AVAILABLE:\n",
    "    tf.random.set_seed(42)"
   ]
  },
  {
   "cell_type": "markdown",
   "metadata": {},
   "source": [
    "## 1. Basic NumPy to Tensor Conversion"
   ]
  },
  {
   "cell_type": "code",
   "execution_count": null,
   "metadata": {},
   "outputs": [],
   "source": [
    "# Create sample NumPy data\n",
    "np_data = np.array([[1.0, 2.0, 3.0], [4.0, 5.0, 6.0]], dtype=np.float32)\n",
    "print(f\"NumPy array: {np_data.shape}, dtype: {np_data.dtype}\")\n",
    "print(np_data)\n",
    "\n",
    "# PyTorch conversion\n",
    "if PYTORCH_AVAILABLE:\n",
    "    torch_tensor = torch.from_numpy(np_data)\n",
    "    print(f\"\\nPyTorch tensor: {torch_tensor.shape}, dtype: {torch_tensor.dtype}\")\n",
    "    print(torch_tensor)\n",
    "\n",
    "# TensorFlow conversion\n",
    "if TENSORFLOW_AVAILABLE:\n",
    "    tf_tensor = tf.constant(np_data)\n",
    "    print(f\"\\nTensorFlow tensor: {tf_tensor.shape}, dtype: {tf_tensor.dtype}\")\n",
    "    print(tf_tensor)"
   ]
  },
  {
   "cell_type": "markdown",
   "metadata": {},
   "source": [
    "## 2. Pandas DataFrame Integration"
   ]
  },
  {
   "cell_type": "code",
   "execution_count": null,
   "metadata": {},
   "outputs": [],
   "source": [
    "# Import our data utilities\n",
    "from foundations.data_utils import get_tutorial_tabular_data\n",
    "\n",
    "# Get sample data as DataFrame\n",
    "data = get_tutorial_tabular_data(num_samples=100, return_as_dataframe=True)\n",
    "df = data['dataframe']\n",
    "\n",
    "print(f\"DataFrame shape: {df.shape}\")\n",
    "print(f\"Columns: {list(df.columns)}\")\n",
    "print(\"\\nFirst 5 rows:\")\n",
    "print(df.head())\n",
    "\n",
    "# Separate features and target\n",
    "feature_columns = [col for col in df.columns if col != 'target']\n",
    "X = df[feature_columns].values.astype(np.float32)\n",
    "y = df['target'].values.astype(np.int64)\n",
    "\n",
    "print(f\"\\nFeatures: {X.shape}, dtype: {X.dtype}\")\n",
    "print(f\"Targets: {y.shape}, dtype: {y.dtype}\")"
   ]
  },
  {
   "cell_type": "markdown",
   "metadata": {},
   "source": [
    "## 3. Framework-Specific Data Loading"
   ]
  },
  {
   "cell_type": "code",
   "execution_count": null,
   "metadata": {},
   "outputs": [],
   "source": [
    "# PyTorch DataLoader\n",
    "if PYTORCH_AVAILABLE:\n",
    "    print(\"🔥 PyTorch DataLoader:\")\n",
    "    X_torch = torch.from_numpy(X)\n",
    "    y_torch = torch.from_numpy(y)\n",
    "    dataset = TensorDataset(X_torch, y_torch)\n",
    "    dataloader = DataLoader(dataset, batch_size=16, shuffle=True)\n",
    "\n",
    "    print(f\"  Dataset size: {len(dataset)}\")\n",
    "    print(f\"  Number of batches: {len(dataloader)}\")\n",
    "\n",
    "    # Show first batch\n",
    "    for batch_X, batch_y in dataloader:\n",
    "        print(f\"  First batch - X: {batch_X.shape}, y: {batch_y.shape}\")\n",
    "        break\n",
    "\n",
    "# TensorFlow Dataset\n",
    "if TENSORFLOW_AVAILABLE:\n",
    "    print(\"\\n🟠 TensorFlow Dataset:\")\n",
    "    dataset = tf.data.Dataset.from_tensor_slices((X, y))\n",
    "    dataset = dataset.batch(16).shuffle(100)\n",
    "\n",
    "    print(\"  Dataset created successfully\")\n",
    "\n",
    "    # Show first batch\n",
    "    for batch_X, batch_y in dataset.take(1):\n",
    "        print(f\"  First batch - X: {batch_X.shape}, y: {batch_y.shape}\")\n",
    "\n",
    "print(\"\\n✅ Data preparation comparison complete!\")"
   ]
  }
 ],
 "metadata": {
  "kernelspec": {
   "display_name": "Python 3 (ipykernel)",
   "language": "python",
   "name": "python3"
  },
  "language_info": {
   "codemirror_mode": {
    "name": "ipython",
    "version": 3
   },
   "file_extension": ".py",
   "mimetype": "text/x-python",
   "name": "python",
   "nbconvert_exporter": "python",
   "pygments_lexer": "ipython3",
   "version": "3.10.11"
  }
 },
 "nbformat": 4,
 "nbformat_minor": 4
}
